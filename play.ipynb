{
 "cells": [
  {
   "cell_type": "code",
   "execution_count": 1,
   "metadata": {},
   "outputs": [],
   "source": [
    "import WordleSolver as wSolv"
   ]
  },
  {
   "cell_type": "code",
   "execution_count": 2,
   "metadata": {},
   "outputs": [],
   "source": [
    "bob = wSolv.WordleSolver()"
   ]
  },
  {
   "cell_type": "code",
   "execution_count": null,
   "metadata": {},
   "outputs": [],
   "source": [
    "print(type(bob.recomandedFirstWords))"
   ]
  },
  {
   "cell_type": "code",
   "execution_count": 7,
   "metadata": {},
   "outputs": [
    {
     "name": "stdout",
     "output_type": "stream",
     "text": [
      "Searching first word: [oooooooooooooooooooooooooooooooooooooooo] 100% (25/25)Done with 1\n",
      "Searching first word: [oooooooooooooooooooooooooooooooooooooooo] 100% (426/426)Done with 2\n",
      "Searching first word: [oooooooooooooooooooooooooooooooooooooooo] 100% (2129/2129)Done with 3\n",
      "Done with 4\n",
      "Done with 5\n",
      "Searching first word: [o                                       ]   2% (858/29873)"
     ]
    },
    {
     "ename": "KeyboardInterrupt",
     "evalue": "",
     "output_type": "error",
     "traceback": [
      "\u001b[0;31m---------------------------------------------------------------------------\u001b[0m",
      "\u001b[0;31mKeyboardInterrupt\u001b[0m                         Traceback (most recent call last)",
      "Cell \u001b[0;32mIn[7], line 5\u001b[0m\n\u001b[1;32m      3\u001b[0m \u001b[38;5;28;01mif\u001b[39;00m \u001b[38;5;28mlen\u001b[39m(bob\u001b[38;5;241m.\u001b[39mwords) \u001b[38;5;241m==\u001b[39m \u001b[38;5;241m0\u001b[39m:\n\u001b[1;32m      4\u001b[0m     \u001b[38;5;28;01mbreak\u001b[39;00m\n\u001b[0;32m----> 5\u001b[0m \u001b[43mbob\u001b[49m\u001b[38;5;241;43m.\u001b[39;49m\u001b[43mgetFirstWord\u001b[49m\u001b[43m(\u001b[49m\u001b[43mi\u001b[49m\u001b[43m)\u001b[49m\n\u001b[1;32m      6\u001b[0m bob\u001b[38;5;241m.\u001b[39msaveFirstWords()\n\u001b[1;32m      7\u001b[0m \u001b[38;5;28mprint\u001b[39m(\u001b[38;5;124mf\u001b[39m\u001b[38;5;124m\"\u001b[39m\u001b[38;5;124mDone with \u001b[39m\u001b[38;5;132;01m{\u001b[39;00mi\u001b[38;5;132;01m}\u001b[39;00m\u001b[38;5;124m\"\u001b[39m)\n",
      "File \u001b[0;32m~/Documents/Dev/WordleSolver/WordleSolver.py:176\u001b[0m, in \u001b[0;36mWordleSolver.getFirstWord\u001b[0;34m(self, showFirstWordSearch)\u001b[0m\n\u001b[1;32m    173\u001b[0m     \u001b[38;5;28mself\u001b[39m\u001b[38;5;241m.\u001b[39mpossibleOuptus \u001b[38;5;241m=\u001b[39m possibilities\n\u001b[1;32m    175\u001b[0m \u001b[38;5;28;01melse\u001b[39;00m:\n\u001b[0;32m--> 176\u001b[0m     \u001b[38;5;28mself\u001b[39m\u001b[38;5;241m.\u001b[39mfirstWord \u001b[38;5;241m=\u001b[39m  \u001b[38;5;28;43mself\u001b[39;49m\u001b[38;5;241;43m.\u001b[39;49m\u001b[43m_getBestWordFit\u001b[49m\u001b[43m(\u001b[49m\u001b[43mshowloadingBar\u001b[49m\u001b[38;5;241;43m=\u001b[39;49m\u001b[43mshowFirstWordSearch\u001b[49m\u001b[43m,\u001b[49m\u001b[43m \u001b[49m\u001b[43mmessage\u001b[49m\u001b[38;5;241;43m=\u001b[39;49m\u001b[38;5;124;43m\"\u001b[39;49m\u001b[38;5;124;43mSearching first word\u001b[39;49m\u001b[38;5;124;43m\"\u001b[39;49m\u001b[43m)\u001b[49m\n\u001b[1;32m    178\u001b[0m \u001b[38;5;28;01mreturn\u001b[39;00m \u001b[38;5;28mself\u001b[39m\u001b[38;5;241m.\u001b[39mfirstWord\n",
      "File \u001b[0;32m~/Documents/Dev/WordleSolver/WordleSolver.py:207\u001b[0m, in \u001b[0;36mWordleSolver._getBestWordFit\u001b[0;34m(self, showloadingBar, message)\u001b[0m\n\u001b[1;32m    204\u001b[0m incrementBar \u001b[38;5;241m=\u001b[39m \u001b[38;5;241m0\u001b[39m\n\u001b[1;32m    206\u001b[0m \u001b[38;5;28;01mfor\u001b[39;00m pivot \u001b[38;5;129;01min\u001b[39;00m \u001b[38;5;28mself\u001b[39m\u001b[38;5;241m.\u001b[39mwords:\n\u001b[0;32m--> 207\u001b[0m     possibilities \u001b[38;5;241m=\u001b[39m \u001b[38;5;28;43mself\u001b[39;49m\u001b[38;5;241;43m.\u001b[39;49m\u001b[43m_getPossibilities\u001b[49m\u001b[43m(\u001b[49m\u001b[43mpivot\u001b[49m\u001b[43m)\u001b[49m\n\u001b[1;32m    208\u001b[0m     \u001b[38;5;28;01mif\u001b[39;00m \u001b[38;5;28mlen\u001b[39m(possibilities) \u001b[38;5;241m>\u001b[39m \u001b[38;5;28mlen\u001b[39m(ans[\u001b[38;5;124m\"\u001b[39m\u001b[38;5;124mpossibilities\u001b[39m\u001b[38;5;124m\"\u001b[39m]\u001b[38;5;241m.\u001b[39mkeys()):\n\u001b[1;32m    209\u001b[0m         ans[\u001b[38;5;124m\"\u001b[39m\u001b[38;5;124mpivot\u001b[39m\u001b[38;5;124m\"\u001b[39m] \u001b[38;5;241m=\u001b[39m pivot\n",
      "File \u001b[0;32m~/Documents/Dev/WordleSolver/WordleSolver.py:155\u001b[0m, in \u001b[0;36mWordleSolver._getPossibilities\u001b[0;34m(self, pivot)\u001b[0m\n\u001b[1;32m    153\u001b[0m possibilities \u001b[38;5;241m=\u001b[39m \u001b[38;5;28mdict\u001b[39m()\n\u001b[1;32m    154\u001b[0m \u001b[38;5;28;01mfor\u001b[39;00m word \u001b[38;5;129;01min\u001b[39;00m \u001b[38;5;28mself\u001b[39m\u001b[38;5;241m.\u001b[39mpossibleWords:\n\u001b[0;32m--> 155\u001b[0m     res \u001b[38;5;241m=\u001b[39m \u001b[38;5;28;43mself\u001b[39;49m\u001b[38;5;241;43m.\u001b[39;49m\u001b[43m_eval\u001b[49m\u001b[43m(\u001b[49m\u001b[43mword\u001b[49m\u001b[43m,\u001b[49m\u001b[43m \u001b[49m\u001b[43mpivot\u001b[49m\u001b[43m)\u001b[49m\n\u001b[1;32m    156\u001b[0m     \u001b[38;5;28;01mif\u001b[39;00m res \u001b[38;5;129;01min\u001b[39;00m possibilities:\n\u001b[1;32m    157\u001b[0m         possibilities[res]\u001b[38;5;241m.\u001b[39mappend(word)\n",
      "File \u001b[0;32m~/Documents/Dev/WordleSolver/WordleSolver.py:138\u001b[0m, in \u001b[0;36mWordleSolver._eval\u001b[0;34m(self, word_to_find, current_word)\u001b[0m\n\u001b[1;32m    136\u001b[0m \u001b[38;5;28;01mfor\u001b[39;00m i \u001b[38;5;129;01min\u001b[39;00m \u001b[38;5;28mrange\u001b[39m(\u001b[38;5;28mlen\u001b[39m(current_word)):\n\u001b[1;32m    137\u001b[0m     \u001b[38;5;28;01mif\u001b[39;00m sc[i] \u001b[38;5;241m==\u001b[39m \u001b[38;5;241m0\u001b[39m \u001b[38;5;129;01mand\u001b[39;00m current_word[i] \u001b[38;5;129;01min\u001b[39;00m compo_word_to_find:\n\u001b[0;32m--> 138\u001b[0m         compo_word_to_find\u001b[38;5;241m.\u001b[39mremove(current_word[i])\n\u001b[1;32m    139\u001b[0m         sc[i] \u001b[38;5;241m=\u001b[39m \u001b[38;5;241m0.5\u001b[39m\n\u001b[1;32m    141\u001b[0m \u001b[38;5;28;01mreturn\u001b[39;00m \u001b[38;5;28mtuple\u001b[39m(sc)\n",
      "\u001b[0;31mKeyboardInterrupt\u001b[0m: "
     ]
    }
   ],
   "source": [
    "\n",
    "for i in range(1, 100):\n",
    "    bob = wSolv.WordleSolver(lenWords=i)\n",
    "    if len(bob.words) == 0:\n",
    "        break\n",
    "    bob.getFirstWord(i)\n",
    "    bob.saveFirstWords()\n",
    "    print(f\"Done with {i}\")"
   ]
  }
 ],
 "metadata": {
  "kernelspec": {
   "display_name": "Python 3",
   "language": "python",
   "name": "python3"
  },
  "language_info": {
   "codemirror_mode": {
    "name": "ipython",
    "version": 3
   },
   "file_extension": ".py",
   "mimetype": "text/x-python",
   "name": "python",
   "nbconvert_exporter": "python",
   "pygments_lexer": "ipython3",
   "version": "3.11.4"
  }
 },
 "nbformat": 4,
 "nbformat_minor": 2
}
